{
 "cells": [
  {
   "cell_type": "code",
   "execution_count": 16,
   "metadata": {},
   "outputs": [],
   "source": [
    "import pandas as pd\n",
    "import numpy as np"
   ]
  },
  {
   "cell_type": "code",
   "execution_count": 2,
   "metadata": {},
   "outputs": [],
   "source": [
    "pop_april = pd.read_csv('./data/population04.csv')\n",
    "pop_july = pd.read_csv('./data/population07.csv')"
   ]
  },
  {
   "cell_type": "code",
   "execution_count": 3,
   "metadata": {},
   "outputs": [
    {
     "data": {
      "text/html": [
       "<div>\n",
       "<style scoped>\n",
       "    .dataframe tbody tr th:only-of-type {\n",
       "        vertical-align: middle;\n",
       "    }\n",
       "\n",
       "    .dataframe tbody tr th {\n",
       "        vertical-align: top;\n",
       "    }\n",
       "\n",
       "    .dataframe thead th {\n",
       "        text-align: right;\n",
       "    }\n",
       "</style>\n",
       "<table border=\"1\" class=\"dataframe\">\n",
       "  <thead>\n",
       "    <tr style=\"text-align: right;\">\n",
       "      <th></th>\n",
       "      <th>일자</th>\n",
       "      <th>시간(1시간단위)</th>\n",
       "      <th>연령대(10세단위)</th>\n",
       "      <th>성별</th>\n",
       "      <th>시</th>\n",
       "      <th>군구</th>\n",
       "      <th>유동인구수</th>\n",
       "    </tr>\n",
       "  </thead>\n",
       "  <tbody>\n",
       "    <tr>\n",
       "      <th>0</th>\n",
       "      <td>20200401</td>\n",
       "      <td>0</td>\n",
       "      <td>20</td>\n",
       "      <td>남성</td>\n",
       "      <td>서울</td>\n",
       "      <td>도봉구</td>\n",
       "      <td>21490</td>\n",
       "    </tr>\n",
       "    <tr>\n",
       "      <th>1</th>\n",
       "      <td>20200401</td>\n",
       "      <td>0</td>\n",
       "      <td>30</td>\n",
       "      <td>여성</td>\n",
       "      <td>서울</td>\n",
       "      <td>동대문구</td>\n",
       "      <td>27260</td>\n",
       "    </tr>\n",
       "    <tr>\n",
       "      <th>2</th>\n",
       "      <td>20200401</td>\n",
       "      <td>0</td>\n",
       "      <td>50</td>\n",
       "      <td>남성</td>\n",
       "      <td>서울</td>\n",
       "      <td>구로구</td>\n",
       "      <td>35670</td>\n",
       "    </tr>\n",
       "    <tr>\n",
       "      <th>3</th>\n",
       "      <td>20200401</td>\n",
       "      <td>1</td>\n",
       "      <td>30</td>\n",
       "      <td>여성</td>\n",
       "      <td>서울</td>\n",
       "      <td>강남구</td>\n",
       "      <td>52380</td>\n",
       "    </tr>\n",
       "    <tr>\n",
       "      <th>4</th>\n",
       "      <td>20200401</td>\n",
       "      <td>1</td>\n",
       "      <td>40</td>\n",
       "      <td>남성</td>\n",
       "      <td>서울</td>\n",
       "      <td>동대문구</td>\n",
       "      <td>28420</td>\n",
       "    </tr>\n",
       "  </tbody>\n",
       "</table>\n",
       "</div>"
      ],
      "text/plain": [
       "         일자  시간(1시간단위)  연령대(10세단위)  성별   시    군구  유동인구수\n",
       "0  20200401          0          20  남성  서울   도봉구  21490\n",
       "1  20200401          0          30  여성  서울  동대문구  27260\n",
       "2  20200401          0          50  남성  서울   구로구  35670\n",
       "3  20200401          1          30  여성  서울   강남구  52380\n",
       "4  20200401          1          40  남성  서울  동대문구  28420"
      ]
     },
     "execution_count": 3,
     "metadata": {},
     "output_type": "execute_result"
    }
   ],
   "source": [
    "pop_april.head(5)"
   ]
  },
  {
   "cell_type": "code",
   "execution_count": 95,
   "metadata": {},
   "outputs": [
    {
     "data": {
      "text/html": [
       "<div>\n",
       "<style scoped>\n",
       "    .dataframe tbody tr th:only-of-type {\n",
       "        vertical-align: middle;\n",
       "    }\n",
       "\n",
       "    .dataframe tbody tr th {\n",
       "        vertical-align: top;\n",
       "    }\n",
       "\n",
       "    .dataframe thead th {\n",
       "        text-align: right;\n",
       "    }\n",
       "</style>\n",
       "<table border=\"1\" class=\"dataframe\">\n",
       "  <thead>\n",
       "    <tr style=\"text-align: right;\">\n",
       "      <th></th>\n",
       "      <th>일자</th>\n",
       "      <th>시간(1시간단위)</th>\n",
       "      <th>연령대(10세단위)</th>\n",
       "      <th>성별</th>\n",
       "      <th>시</th>\n",
       "      <th>군구</th>\n",
       "      <th>유동인구수</th>\n",
       "    </tr>\n",
       "  </thead>\n",
       "  <tbody>\n",
       "    <tr>\n",
       "      <th>0</th>\n",
       "      <td>20200701</td>\n",
       "      <td>0</td>\n",
       "      <td>40</td>\n",
       "      <td>남성</td>\n",
       "      <td>서울</td>\n",
       "      <td>강동구</td>\n",
       "      <td>35460</td>\n",
       "    </tr>\n",
       "    <tr>\n",
       "      <th>1</th>\n",
       "      <td>20200701</td>\n",
       "      <td>0</td>\n",
       "      <td>40</td>\n",
       "      <td>남성</td>\n",
       "      <td>서울</td>\n",
       "      <td>구로구</td>\n",
       "      <td>37440</td>\n",
       "    </tr>\n",
       "    <tr>\n",
       "      <th>2</th>\n",
       "      <td>20200701</td>\n",
       "      <td>0</td>\n",
       "      <td>40</td>\n",
       "      <td>남성</td>\n",
       "      <td>서울</td>\n",
       "      <td>도봉구</td>\n",
       "      <td>25830</td>\n",
       "    </tr>\n",
       "    <tr>\n",
       "      <th>3</th>\n",
       "      <td>20200701</td>\n",
       "      <td>1</td>\n",
       "      <td>60</td>\n",
       "      <td>여성</td>\n",
       "      <td>서울</td>\n",
       "      <td>구로구</td>\n",
       "      <td>25460</td>\n",
       "    </tr>\n",
       "    <tr>\n",
       "      <th>4</th>\n",
       "      <td>20200701</td>\n",
       "      <td>2</td>\n",
       "      <td>20</td>\n",
       "      <td>여성</td>\n",
       "      <td>서울</td>\n",
       "      <td>강동구</td>\n",
       "      <td>29260</td>\n",
       "    </tr>\n",
       "  </tbody>\n",
       "</table>\n",
       "</div>"
      ],
      "text/plain": [
       "         일자  시간(1시간단위)  연령대(10세단위)  성별   시   군구  유동인구수\n",
       "0  20200701          0          40  남성  서울  강동구  35460\n",
       "1  20200701          0          40  남성  서울  구로구  37440\n",
       "2  20200701          0          40  남성  서울  도봉구  25830\n",
       "3  20200701          1          60  여성  서울  구로구  25460\n",
       "4  20200701          2          20  여성  서울  강동구  29260"
      ]
     },
     "execution_count": 95,
     "metadata": {},
     "output_type": "execute_result"
    }
   ],
   "source": [
    "pop_july.head(5)"
   ]
  },
  {
   "cell_type": "code",
   "execution_count": 185,
   "metadata": {},
   "outputs": [
    {
     "data": {
      "text/plain": [
       "일자\n",
       "1    14944020\n",
       "2    14939240\n",
       "3    14824170\n",
       "Name: 유동인구수, dtype: int64"
      ]
     },
     "execution_count": 185,
     "metadata": {},
     "output_type": "execute_result"
    }
   ],
   "source": [
    "tb_merged_april = pop_april[['일자', '군구', '유동인구수']]\n",
    "tb_merged_april = tb_merged_april[tb_merged_april['군구'] == '강남구'].reset_index(drop=True)\n",
    "tb_merged_april['일자'] = tb_merged_april['일자'].apply(lambda x: pd.to_datetime(str(x), format='%Y%m%d').day)\n",
    "tb_merged_april = tb_merged_april.groupby('일자')['유동인구수'].sum()\n",
    "# tb_merged_april.dtypes\n",
    "tb_merged_april.head(3)"
   ]
  },
  {
   "cell_type": "code",
   "execution_count": 188,
   "metadata": {},
   "outputs": [
    {
     "data": {
      "text/plain": [
       "일자\n",
       "1    15655820\n",
       "2    15689100\n",
       "Name: 유동인구수, dtype: int64"
      ]
     },
     "execution_count": 188,
     "metadata": {},
     "output_type": "execute_result"
    }
   ],
   "source": [
    "tb_merged_july = pop_july[['일자', '군구', '유동인구수']]\n",
    "tb_merged_july = tb_merged_july[tb_merged_july['군구'] == '강남구']\n",
    "tb_merged_july['일자'] = tb_merged_july['일자'].apply(lambda x: pd.to_datetime(str(x), format='%Y%m%d').day)\n",
    "tb_merged_july = tb_merged_july.groupby('일자')['유동인구수'].sum()\n",
    "# tb_merged_july['일자'] = tb_merged_july['일자'].apply(lambda x: pd.to_datetime(str(x), format='%Y%m%d').day)\n",
    "# tb_merged_july = tb_merged_july['유동인구수']\n",
    "tb_merged_july.head(2)"
   ]
  },
  {
   "cell_type": "code",
   "execution_count": 190,
   "metadata": {},
   "outputs": [
    {
     "data": {
      "text/plain": [
       "Text(0.5, 1.0, '4월')"
      ]
     },
     "execution_count": 190,
     "metadata": {},
     "output_type": "execute_result"
    },
    {
     "data": {
      "image/png": "[encoded data removed]",
      "text/plain": [
       "<Figure size 1440x360 with 1 Axes>"
      ]
     },
     "metadata": {
      "needs_background": "light"
     },
     "output_type": "display_data"
    }
   ],
   "source": [
    "plt.figure(figsize=(20,5))\n",
    "plt.bar(tb_merged_april.index, tb_merged_april)\n",
    "plt.title('4월')"
   ]
  },
  {
   "cell_type": "code",
   "execution_count": 192,
   "metadata": {},
   "outputs": [
    {
     "data": {
      "text/plain": [
       "Text(0.5, 1.0, '7월')"
      ]
     },
     "execution_count": 192,
     "metadata": {},
     "output_type": "execute_result"
    },
    {
     "data": {
      "image/png": "[encoded data removed]",
      "text/plain": [
       "<Figure size 1440x360 with 1 Axes>"
      ]
     },
     "metadata": {
      "needs_background": "light"
     },
     "output_type": "display_data"
    }
   ],
   "source": [
    "plt.figure(figsize=(20,5))\n",
    "plt.bar(tb_merged_july.index, tb_merged_july)\n",
    "plt.title('7월')"
   ]
  },
  {
   "cell_type": "code",
   "execution_count": 198,
   "metadata": {},
   "outputs": [
    {
     "name": "stdout",
     "output_type": "stream",
     "text": [
      "30\n",
      "30\n"
     ]
    }
   ],
   "source": [
    "bars1 = list(tb_merged_april)\n",
    "bars2 = list(tb_merged_july)\n",
    "bars2.pop()\n",
    "print(len(bars1))\n",
    "print(len(bars2))"
   ]
  },
  {
   "cell_type": "code",
   "execution_count": 207,
   "metadata": {},
   "outputs": [],
   "source": [
    "r1 = np.arange(len(bars2))\n",
    "r2 = [x + 0.25 for x in r1]"
   ]
  },
  {
   "cell_type": "code",
   "execution_count": 213,
   "metadata": {},
   "outputs": [
    {
     "data": {
      "text/plain": [
       "<matplotlib.legend.Legend at 0x7f95b0bddca0>"
      ]
     },
     "execution_count": 213,
     "metadata": {},
     "output_type": "execute_result"
    },
    {
     "data": {
      "image/png": "[encoded data removed]",
      "text/plain": [
       "<Figure size 1440x360 with 1 Axes>"
      ]
     },
     "metadata": {
      "needs_background": "light"
     },
     "output_type": "display_data"
    }
   ],
   "source": [
    "plt.figure(figsize=(20,5))\n",
    "plt.bar(r1, bars1, color='blue', width=0.25, edgecolor='white', label='apr')\n",
    "plt.bar(r2, bars2, color='orange', width=0.25, edgecolor='white', label='jul')\n",
    "plt.legend()"
   ]
  },
  {
   "cell_type": "code",
   "execution_count": 186,
   "metadata": {},
   "outputs": [],
   "source": [
    "# apr_jul = pd.merge(tb_merged_april, tb_merged_july, left_on=\"일자\", right_on=\"일자\", suffixes=[\"_apr\", \"_jul\"])\n",
    "# apr_jul.head"
   ]
  },
  {
   "cell_type": "code",
   "execution_count": 187,
   "metadata": {},
   "outputs": [],
   "source": [
    "# plt.figure(figsize=(20,5))\n",
    "# plt.bar(tb_merged_april.index, tb_merged_april)\n",
    "# plt.title('4월')"
   ]
  },
  {
   "cell_type": "code",
   "execution_count": 21,
   "metadata": {},
   "outputs": [
    {
     "name": "stdout",
     "output_type": "stream",
     "text": [
      "군구\n",
      "강남구     415479300\n",
      "강동구     239157350\n",
      "강북구     171437740\n",
      "강서구     316538320\n",
      "관악구     285422490\n",
      "광진구     205584150\n",
      "구로구     252685600\n",
      "금천구     162236340\n",
      "노원구     286372000\n",
      "도봉구     172730720\n",
      "동대문구    209673270\n",
      "동작구     224537120\n",
      "마포구     245660870\n",
      "서대문구    182865220\n",
      "서초구     293867470\n",
      "성동구     184605390\n",
      "성북구     243666730\n",
      "송파구     372279240\n",
      "양천구     235960940\n",
      "영등포구    280428050\n",
      "용산구     151474540\n",
      "은평구     241684780\n",
      "종로구     152183320\n",
      "중구      152646440\n",
      "중랑구     210660150\n",
      "Name: 유동인구수, dtype: int64\n"
     ]
    }
   ],
   "source": [
    "pop_april_gu = pop_april.groupby('군구')['유동인구수'].sum()\n",
    "pop_april_gu.head(5)\n",
    "print(pop_april_gu)"
   ]
  },
  {
   "cell_type": "code",
   "execution_count": 6,
   "metadata": {},
   "outputs": [],
   "source": [
    "import matplotlib.pyplot as plt"
   ]
  },
  {
   "cell_type": "code",
   "execution_count": 93,
   "metadata": {},
   "outputs": [
    {
     "data": {
      "text/plain": [
       "군구\n",
       "용산구    151474540\n",
       "종로구    152183320\n",
       "중구     152646440\n",
       "금천구    162236340\n",
       "강북구    171437740\n",
       "Name: 유동인구수, dtype: int64"
      ]
     },
     "execution_count": 93,
     "metadata": {},
     "output_type": "execute_result"
    }
   ],
   "source": [
    "pop_april_gu = pop_april_gu.sort_values(ascending=True)\n",
    "pop_april_gu.head(5)"
   ]
  },
  {
   "cell_type": "code",
   "execution_count": null,
   "metadata": {},
   "outputs": [],
   "source": []
  },
  {
   "cell_type": "code",
   "execution_count": null,
   "metadata": {},
   "outputs": [],
   "source": []
  },
  {
   "cell_type": "code",
   "execution_count": 8,
   "metadata": {},
   "outputs": [],
   "source": [
    "plt.rcParams['font.family'] = 'AppleGothic'"
   ]
  },
  {
   "cell_type": "code",
   "execution_count": 9,
   "metadata": {},
   "outputs": [
    {
     "data": {
      "text/plain": [
       "Text(0.5, 1.0, '구별 유동인구수')"
      ]
     },
     "execution_count": 9,
     "metadata": {},
     "output_type": "execute_result"
    },
    {
     "data": {
      "image/png": "[encoded data removed]",
      "text/plain": [
       "<Figure size 1440x360 with 1 Axes>"
      ]
     },
     "metadata": {
      "needs_background": "light"
     },
     "output_type": "display_data"
    }
   ],
   "source": [
    "plt.figure(figsize=(20,5))\n",
    "plt.bar(pop_april_gu.index, pop_april_gu)\n",
    "plt.title('구별 유동인구수')"
   ]
  },
  {
   "cell_type": "code",
   "execution_count": 26,
   "metadata": {},
   "outputs": [
    {
     "name": "stdout",
     "output_type": "stream",
     "text": [
      "[14944020, 14939240, 14824170, 11799100, 10901220, 14919780, 15050390, 14969060, 14979370, 14906870, 11832630, 10950160, 14845990, 15040560, 11544040, 14926420, 14968010, 11931460, 11030320, 15018110, 15174740, 15151450, 15182040, 15171990, 12128180, 11097490, 15156750, 15322060, 15260040, 11513640]\n"
     ]
    }
   ],
   "source": [
    "april_pop_daily = pop_april[pop_april['군구'] == '강남구'].groupby('일자')['유동인구수'].sum()\n",
    "april_pop_daily.head(5)\n",
    "print(list(april_pop_daily))"
   ]
  },
  {
   "cell_type": "code",
   "execution_count": 11,
   "metadata": {},
   "outputs": [
    {
     "data": {
      "text/plain": [
       "일자\n",
       "20200701    15655820\n",
       "20200702    15689100\n",
       "20200703    15554150\n",
       "20200704    12533180\n",
       "20200705    11426880\n",
       "Name: 유동인구수, dtype: int64"
      ]
     },
     "execution_count": 11,
     "metadata": {},
     "output_type": "execute_result"
    }
   ],
   "source": [
    "july_pop_daily = pop_july[pop_july['군구'] == '강남구'].groupby('일자')['유동인구수'].sum()\n",
    "july_pop_daily.head(5)\n"
   ]
  },
  {
   "cell_type": "code",
   "execution_count": 12,
   "metadata": {},
   "outputs": [
    {
     "data": {
      "text/plain": [
       "Text(0.5, 1.0, '4월 일별 유동인구')"
      ]
     },
     "execution_count": 12,
     "metadata": {},
     "output_type": "execute_result"
    },
    {
     "data": {
      "image/png": "[encoded data removed]",
      "text/plain": [
       "<Figure size 1440x360 with 1 Axes>"
      ]
     },
     "metadata": {
      "needs_background": "light"
     },
     "output_type": "display_data"
    }
   ],
   "source": [
    "plt.figure(figsize=(20,5))\n",
    "plt.bar(april_pop_daily.index, april_pop_daily)\n",
    "plt.title('4월 일별 유동인구')"
   ]
  },
  {
   "cell_type": "code",
   "execution_count": 13,
   "metadata": {},
   "outputs": [
    {
     "data": {
      "text/plain": [
       "Text(0.5, 1.0, '7월 일별 유동인구')"
      ]
     },
     "execution_count": 13,
     "metadata": {},
     "output_type": "execute_result"
    },
    {
     "data": {
      "image/png": "[encoded data removed]",
      "text/plain": [
       "<Figure size 1440x360 with 1 Axes>"
      ]
     },
     "metadata": {
      "needs_background": "light"
     },
     "output_type": "display_data"
    }
   ],
   "source": [
    "plt.figure(figsize=(20,5))\n",
    "plt.bar(july_pop_daily.index, july_pop_daily)\n",
    "plt.title('7월 일별 유동인구')"
   ]
  },
  {
   "cell_type": "code",
   "execution_count": 75,
   "metadata": {},
   "outputs": [],
   "source": [
    "barwidth = 0.25"
   ]
  },
  {
   "cell_type": "code",
   "execution_count": 76,
   "metadata": {},
   "outputs": [
    {
     "data": {
      "text/plain": [
       "[14944020,\n",
       " 14939240,\n",
       " 14824170,\n",
       " 11799100,\n",
       " 10901220,\n",
       " 14919780,\n",
       " 15050390,\n",
       " 14969060,\n",
       " 14979370,\n",
       " 14906870,\n",
       " 11832630,\n",
       " 10950160,\n",
       " 14845990,\n",
       " 15040560,\n",
       " 11544040,\n",
       " 14926420,\n",
       " 14968010,\n",
       " 11931460,\n",
       " 11030320,\n",
       " 15018110,\n",
       " 15174740,\n",
       " 15151450,\n",
       " 15182040,\n",
       " 15171990,\n",
       " 12128180,\n",
       " 11097490,\n",
       " 15156750,\n",
       " 15322060,\n",
       " 15260040,\n",
       " 11513640]"
      ]
     },
     "execution_count": 76,
     "metadata": {},
     "output_type": "execute_result"
    }
   ],
   "source": [
    "bars1 = list(april_pop_daily)\n",
    "bars1"
   ]
  },
  {
   "cell_type": "code",
   "execution_count": 77,
   "metadata": {},
   "outputs": [
    {
     "data": {
      "text/plain": [
       "15379740"
      ]
     },
     "execution_count": 77,
     "metadata": {},
     "output_type": "execute_result"
    }
   ],
   "source": [
    "bars2 = list(july_pop_daily)\n",
    "bars2.pop()"
   ]
  },
  {
   "cell_type": "code",
   "execution_count": 78,
   "metadata": {},
   "outputs": [
    {
     "name": "stdout",
     "output_type": "stream",
     "text": [
      "30\n",
      "30\n"
     ]
    }
   ],
   "source": [
    "print(len(bars1))\n",
    "print(len(bars2))"
   ]
  },
  {
   "cell_type": "code",
   "execution_count": 79,
   "metadata": {},
   "outputs": [],
   "source": [
    "r1 = np.arange(len(bars1) + 1)"
   ]
  },
  {
   "cell_type": "code",
   "execution_count": 80,
   "metadata": {},
   "outputs": [
    {
     "name": "stdout",
     "output_type": "stream",
     "text": [
      "[ 0  1  2  3  4  5  6  7  8  9 10 11 12 13 14 15 16 17 18 19 20 21 22 23\n",
      " 24 25 26 27 28 29 30]\n"
     ]
    }
   ],
   "source": [
    "r2 = [x + 0.25 for x in r1]\n",
    "print(r1)"
   ]
  },
  {
   "cell_type": "code",
   "execution_count": 81,
   "metadata": {},
   "outputs": [
    {
     "name": "stdout",
     "output_type": "stream",
     "text": [
      "[0.25, 1.25, 2.25, 3.25, 4.25, 5.25, 6.25, 7.25, 8.25, 9.25, 10.25, 11.25, 12.25, 13.25, 14.25, 15.25, 16.25, 17.25, 18.25, 19.25, 20.25, 21.25, 22.25, 23.25, 24.25, 25.25, 26.25, 27.25, 28.25, 29.25, 30.25]\n"
     ]
    }
   ],
   "source": [
    "print(r2)"
   ]
  },
  {
   "cell_type": "code",
   "execution_count": null,
   "metadata": {},
   "outputs": [],
   "source": []
  },
  {
   "cell_type": "code",
   "execution_count": 83,
   "metadata": {},
   "outputs": [],
   "source": [
    "# plt.bar(r1, bars1, color='#7f6d5f', width=0.25, edgecolor='white', label='var1')\n",
    "# plt.bar(r2, bars2, color='#557f2d', width=0.25, edgecolor='white', label='var2')"
   ]
  },
  {
   "cell_type": "code",
   "execution_count": 84,
   "metadata": {},
   "outputs": [
    {
     "data": {
      "text/plain": [
       "일자\n",
       "20200401    14944020\n",
       "20200402    14939240\n",
       "20200403    14824170\n",
       "Name: 유동인구수, dtype: int64"
      ]
     },
     "execution_count": 84,
     "metadata": {},
     "output_type": "execute_result"
    }
   ],
   "source": [
    "april_pop_daily.head(3)"
   ]
  },
  {
   "cell_type": "code",
   "execution_count": 88,
   "metadata": {},
   "outputs": [],
   "source": [
    "merged = pd.merge(april_pop_daily, july_pop_daily)"
   ]
  },
  {
   "cell_type": "code",
   "execution_count": 92,
   "metadata": {},
   "outputs": [
    {
     "name": "stdout",
     "output_type": "stream",
     "text": [
      "0\n"
     ]
    }
   ],
   "source": [
    "print(len(merged))"
   ]
  },
  {
   "cell_type": "code",
   "execution_count": null,
   "metadata": {},
   "outputs": [],
   "source": []
  }
 ],
 "metadata": {
  "kernelspec": {
   "display_name": "Python 3",
   "language": "python",
   "name": "python3"
  },
  "language_info": {
   "codemirror_mode": {
    "name": "ipython",
    "version": 3
   },
   "file_extension": ".py",
   "mimetype": "text/x-python",
   "name": "python",
   "nbconvert_exporter": "python",
   "pygments_lexer": "ipython3",
   "version": "3.8.3"
  }
 },
 "nbformat": 4,
 "nbformat_minor": 4
}
